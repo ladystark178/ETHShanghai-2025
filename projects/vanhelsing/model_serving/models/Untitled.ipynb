{
 "cells": [
  {
   "cell_type": "code",
   "execution_count": 2,
   "metadata": {},
   "outputs": [
    {
     "name": "stdout",
     "output_type": "stream",
     "text": [
      "✅ 元数据文件创建完成!\n"
     ]
    }
   ],
   "source": [
    "# create_metadata.py\n",
    "import pickle\n",
    "import json\n",
    "from datetime import datetime\n",
    "\n",
    "# 加载特征名称\n",
    "with open('feature_names.pkl', 'rb') as f:\n",
    "    feature_names = pickle.load(f)\n",
    "\n",
    "# 创建元数据\n",
    "metadata = {\n",
    "    'version': 'model_v2025',\n",
    "    'training_time': datetime.now().strftime(\"%Y-%m-%d %H:%M:%S\"),\n",
    "    'performance': {\n",
    "        'lgb': {\n",
    "            'auc': 0.95,  # 根据你的实际性能调整\n",
    "            'accuracy': 0.92,\n",
    "            'cv_mean': 0.94,\n",
    "            'cv_std': 0.02\n",
    "        }\n",
    "    },\n",
    "    'feature_names': feature_names,\n",
    "    'model_weights': {\n",
    "        'lgb': 1.0  # 只使用LightGBM\n",
    "    },\n",
    "    'training_info': {\n",
    "        'dataset_source': 'Ethereum Fraud Detection Dataset from Kaggle',\n",
    "        'total_features': len(feature_names),\n",
    "        'algorithm': 'LightGBM',\n",
    "        'dataset_size': '从transaction_dataset.csv获取'\n",
    "    },\n",
    "    'feature_descriptions': {\n",
    "        'Avg min between sent tnx': '发送交易的平均间隔时间(分钟)',\n",
    "        'Avg min between received tnx': '接收交易的平均间隔时间(分钟)',\n",
    "        'Time Diff between first and last (Mins)': '首次和最后一次交易的时间差',\n",
    "        'Sent_tnx': '发送交易总数',\n",
    "        'Received_tnx': '接收交易总数',\n",
    "        'Number of Created Contracts': '创建的合约数量',\n",
    "        # ... 其他特征描述\n",
    "    }\n",
    "}\n",
    "\n",
    "# 保存元数据\n",
    "with open('metadata_model_v2025.json', 'w', encoding='utf-8') as f:\n",
    "    json.dump(metadata, f, indent=2, ensure_ascii=False)\n",
    "\n",
    "print(\"✅ 元数据文件创建完成!\")"
   ]
  },
  {
   "cell_type": "code",
   "execution_count": null,
   "metadata": {},
   "outputs": [],
   "source": []
  }
 ],
 "metadata": {
  "kernelspec": {
   "display_name": "Python 3",
   "language": "python",
   "name": "python3"
  },
  "language_info": {
   "codemirror_mode": {
    "name": "ipython",
    "version": 3
   },
   "file_extension": ".py",
   "mimetype": "text/x-python",
   "name": "python",
   "nbconvert_exporter": "python",
   "pygments_lexer": "ipython3",
   "version": "3.7.6"
  }
 },
 "nbformat": 4,
 "nbformat_minor": 4
}
